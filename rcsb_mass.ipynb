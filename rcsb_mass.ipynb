{
 "cells": [
  {
   "cell_type": "code",
   "execution_count": 20,
   "id": "b517a98f-972f-4c0c-a0d8-0239353bb5e1",
   "metadata": {},
   "outputs": [],
   "source": [
    "import requests\n",
    "import os\n",
    "import json\n",
    "from datetime import datetime"
   ]
  },
  {
   "cell_type": "code",
   "execution_count": 21,
   "id": "6f7dc316-23ad-48d9-8649-c8d221f570a1",
   "metadata": {},
   "outputs": [],
   "source": [
    "# Define the path to your JSON file\n",
    "json_file_path = 'pdb_json/search.json'  # Add all new JSON to pdb_json folder- rename as necessary"
   ]
  },
  {
   "cell_type": "code",
   "execution_count": 22,
   "id": "d767b7f3-a8b4-44db-8bf8-adc1014dd436",
   "metadata": {},
   "outputs": [],
   "source": [
    "# Load the query from the JSON file\n",
    "with open(json_file_path, 'r') as file:\n",
    "    query = json.load(file)\n",
    "\n",
    "# Extract the filename without the extension\n",
    "json_filename = os.path.splitext(os.path.basename(json_file_path))[0]\n",
    "\n",
    "# Get the directory of the JSON file to use as the base path for the new folder\n",
    "base_path = os.path.dirname(json_file_path)\n",
    "\n",
    "# Generate a unique folder name with a timestamp and the JSON filename\n",
    "timestamp = datetime.now().strftime(\"%Y%m%d_%H%M%S\")\n",
    "folder_name = f\"{json_filename}_downloads_{timestamp}\"\n",
    "folder_path = os.path.join(base_path, folder_name)\n",
    "\n",
    "# Create the new folder\n",
    "os.makedirs(folder_path, exist_ok=True)"
   ]
  },
  {
   "cell_type": "code",
   "execution_count": 23,
   "id": "5630af20-9263-417d-9577-13a07c3b290f",
   "metadata": {},
   "outputs": [],
   "source": [
    "# API endpoint for searching\n",
    "search_url = 'https://search.rcsb.org/rcsbsearch/v2/query'\n",
    "\n",
    "# Initialize variables for pagination and tracking total downloads\n",
    "start = 0\n",
    "rows_per_request = 100  # Adjust based on what the API allows and what you find practical\n",
    "total_downloaded = 0"
   ]
  },
  {
   "cell_type": "code",
   "execution_count": 24,
   "id": "a657c15d-8eb1-4a39-9cc1-c5255eff7526",
   "metadata": {},
   "outputs": [
    {
     "name": "stdout",
     "output_type": "stream",
     "text": [
      "Downloaded 31 PDB files, total downloaded: 31. Saving to pdb_json\\search_downloads_20240210_102432\n",
      "No more results to download.\n",
      "Finished downloading 31 PDB files to pdb_json\\search_downloads_20240210_102432.\n"
     ]
    }
   ],
   "source": [
    "while True:\n",
    "    # Update the pagination parameters in the query\n",
    "    query['request_options']['paginate']['start'] = start\n",
    "    query['request_options']['paginate']['rows'] = rows_per_request\n",
    "\n",
    "    # Perform the search\n",
    "    response = requests.post(search_url, json=query)\n",
    "    if response.status_code != 200:\n",
    "        print(f\"Error in API request: {response.status_code}\")\n",
    "        break\n",
    "\n",
    "    search_results = response.json()\n",
    "    pdb_ids = [result['identifier'] for result in search_results['result_set']]\n",
    "\n",
    "    if not pdb_ids:\n",
    "        print(\"No more results to download.\")\n",
    "        break\n",
    "\n",
    "    # Download PDB files for each ID and save them in the new folder\n",
    "    for pdb_id in pdb_ids:\n",
    "        pdb_download_url = f'https://files.rcsb.org/download/{pdb_id}.pdb1.gz'\n",
    "        pdb_response = requests.get(pdb_download_url)\n",
    "\n",
    "        # Define the path for saving this PDB file\n",
    "        pdb_file_path = os.path.join(folder_path, f\"{pdb_id}.pdb1.gz\")\n",
    "\n",
    "        # Save the PDB file to the specified folder\n",
    "        with open(pdb_file_path, \"wb\") as file:\n",
    "            file.write(pdb_response.content)\n",
    "\n",
    "    total_downloaded += len(pdb_ids)\n",
    "    print(f\"Downloaded {len(pdb_ids)} PDB files, total downloaded: {total_downloaded}. Saving to {folder_path}\")\n",
    "\n",
    "    # Prepare for the next batch\n",
    "    start += rows_per_request\n",
    "\n",
    "print(f\"Finished downloading {total_downloaded} PDB files to {folder_path}.\")"
   ]
  },
  {
   "cell_type": "code",
   "execution_count": null,
   "id": "c73968d4-1094-4690-8c06-2647870ab73e",
   "metadata": {},
   "outputs": [],
   "source": []
  },
  {
   "cell_type": "code",
   "execution_count": null,
   "id": "2ad37e7f-de4f-4994-9807-6ab4c4666119",
   "metadata": {},
   "outputs": [],
   "source": []
  }
 ],
 "metadata": {
  "kernelspec": {
   "display_name": "Python 3 (ipykernel)",
   "language": "python",
   "name": "python3"
  },
  "language_info": {
   "codemirror_mode": {
    "name": "ipython",
    "version": 3
   },
   "file_extension": ".py",
   "mimetype": "text/x-python",
   "name": "python",
   "nbconvert_exporter": "python",
   "pygments_lexer": "ipython3",
   "version": "3.11.5"
  }
 },
 "nbformat": 4,
 "nbformat_minor": 5
}
